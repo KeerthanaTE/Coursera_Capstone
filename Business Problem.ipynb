{
    "nbformat_minor": 1, 
    "cells": [
        {
            "source": "# CAPSTONE PROJECT - The battle of Neighbours", 
            "cell_type": "markdown", 
            "metadata": {
                "collapsed": true
            }
        }, 
        {
            "source": "## Introduction", 
            "cell_type": "markdown", 
            "metadata": {}
        }, 
        {
            "source": "### \"Which would be a best place to start an Indian cuisine in New Orleans?\"", 
            "cell_type": "markdown", 
            "metadata": {}
        }, 
        {
            "source": "One of my relatives is an excellent cook and is a pioneer in business, who **wants to start an Indian Cuisine**.", 
            "cell_type": "markdown", 
            "metadata": {}
        }, 
        {
            "source": "Having a good experience in business, his moto is to *work or his customers* and is good enough to obtain a handsome profit in the meantime.\n\nHe describes the following as his business contraints:", 
            "cell_type": "markdown", 
            "metadata": {}
        }, 
        {
            "source": "* The population of the locality\n* Travel feasibility for the customer where the stops for public transport is within 5-10mins of walking distance\n* Top 10 Popular dishes among the people in the vicinity\n* A good place for parking the vehicles surrounding the cuisine", 
            "cell_type": "markdown", 
            "metadata": {}
        }, 
        {
            "source": "The above are the primary constraints of my customer.", 
            "cell_type": "markdown", 
            "metadata": {}
        }, 
        {
            "execution_count": null, 
            "cell_type": "code", 
            "metadata": {}, 
            "outputs": [], 
            "source": ""
        }
    ], 
    "metadata": {
        "kernelspec": {
            "display_name": "Python 3.6", 
            "name": "python3", 
            "language": "python"
        }, 
        "language_info": {
            "mimetype": "text/x-python", 
            "nbconvert_exporter": "python", 
            "version": "3.6.8", 
            "name": "python", 
            "file_extension": ".py", 
            "pygments_lexer": "ipython3", 
            "codemirror_mode": {
                "version": 3, 
                "name": "ipython"
            }
        }
    }, 
    "nbformat": 4
}