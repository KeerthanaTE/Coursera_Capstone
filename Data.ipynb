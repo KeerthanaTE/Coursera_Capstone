{
    "nbformat_minor": 1, 
    "cells": [
        {
            "source": "# Capstone Project - The Battle of Neighborhoods", 
            "cell_type": "markdown", 
            "metadata": {
                "collapsed": true
            }
        }, 
        {
            "source": "## Data description", 
            "cell_type": "markdown", 
            "metadata": {}
        }, 
        {
            "source": "Catalogue of all the cities in US:\n", 
            "cell_type": "markdown", 
            "metadata": {}
        }, 
        {
            "source": "Along with the list, since the request has been made with regard to population, the following link can be used to get the required data:\n\nhttps://en.wikipedia.org/wiki/List_of_United_States_cities_by_population\n\n\n\nIncome of all the cities in the US to get the comparision:\n\nhttps://en.wikipedia.org/wiki/List_of_United_States_metropolitan_areas_by_per_capita_income", 
            "cell_type": "markdown", 
            "metadata": {}
        }, 
        {
            "source": "#### *Foursquare API would be used to find the location of all the venues in the city", 
            "cell_type": "markdown", 
            "metadata": {}
        }, 
        {
            "source": "##### Requirement Gathering and analysis", 
            "cell_type": "markdown", 
            "metadata": {}
        }, 
        {
            "source": "With the help of the above two links we can shortlist the best city to start our business. The population per area and best metropolitan area's income should be considered. ", 
            "cell_type": "markdown", 
            "metadata": {}
        }
    ], 
    "metadata": {
        "kernelspec": {
            "display_name": "Python 3.6", 
            "name": "python3", 
            "language": "python"
        }, 
        "language_info": {
            "mimetype": "text/x-python", 
            "nbconvert_exporter": "python", 
            "version": "3.6.8", 
            "name": "python", 
            "file_extension": ".py", 
            "pygments_lexer": "ipython3", 
            "codemirror_mode": {
                "version": 3, 
                "name": "ipython"
            }
        }
    }, 
    "nbformat": 4
}